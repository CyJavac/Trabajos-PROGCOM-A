{
  "nbformat": 4,
  "nbformat_minor": 0,
  "metadata": {
    "colab": {
      "provenance": [],
      "collapsed_sections": []
    },
    "kernelspec": {
      "name": "python3",
      "display_name": "Python 3"
    },
    "language_info": {
      "name": "python"
    }
  },
  "cells": [
    {
      "cell_type": "code",
      "execution_count": 39,
      "metadata": {
        "colab": {
          "base_uri": "https://localhost:8080/"
        },
        "id": "TQk0f0w188U8",
        "outputId": "5acec10f-c352-4600-a7a2-bfcd63c7836b"
      },
      "outputs": [
        {
          "output_type": "stream",
          "name": "stdout",
          "text": [
            "Empezar juego? Si/No: si\n",
            "Letra:  M\n",
            "Tienes 60 segundos\n",
            "mano\n",
            "\n",
            "m a n o\n",
            "\n",
            "mono\n",
            "\n",
            "m o n o\n",
            "\n",
            "hola\n",
            "\n",
            "STOP. No has escrito una palabra con  M\n",
            "STOP\n"
          ]
        }
      ],
      "source": [
        "import time, random\n",
        "\n",
        "Letras=[\"A\",\"B\",\"C\",\"D\",\"E\",\"F\",\"G\",\"H\",\"I\",\"J\",\"K\",\"L\",\"M\",\"N\",\"Ñ\",\"O\",\"P\",\"Q\",\"R\",\"S\",\"T\",\"U\",\"V\",\"W\",\"X\",\"Y\",\"Z\"]\n",
        "\n",
        "\n",
        "letra=Letras[random.randrange(0, 26)]\n",
        "\n",
        "import time \n",
        "  \n",
        "def countdown(t): \n",
        "    \n",
        "    while t: \n",
        "        mins, secs=divmod(t, 60) \n",
        "        timer=\"{:02d}:{:02d}\".format(mins, secs) \n",
        "        print(timer, end=\"\\r\") \n",
        "        time.sleep(1) \n",
        "        t-=1\n",
        "      \n",
        "\n",
        "play=str(input(\"Empezar juego? Si/No: \"))\n",
        "if play.upper()==\"SI\":\n",
        "  t=60\n",
        "  #countdown(int(t))\n",
        "  print(\"Letra: \",letra)\n",
        "  print(\"Tienes 60 segundos\")\n",
        "  while True:\n",
        "    \n",
        "    palabra=list(input())\n",
        "    print(\"\")\n",
        "\n",
        "    if palabra[0].upper()==letra:\n",
        "      print(*palabra)\n",
        "      print(\"\")\n",
        "    else:\n",
        "      print(\"STOP. No has escrito una palabra con \",letra)\n",
        "      break\n",
        "  \n",
        "\n",
        "\n",
        "\n"
      ]
    }
  ]
}