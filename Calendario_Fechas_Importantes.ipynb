{
  "nbformat": 4,
  "nbformat_minor": 0,
  "metadata": {
    "colab": {
      "provenance": [],
      "collapsed_sections": []
    },
    "kernelspec": {
      "name": "python3",
      "display_name": "Python 3"
    },
    "language_info": {
      "name": "python"
    }
  },
  "cells": [
    {
      "cell_type": "code",
      "execution_count": 71,
      "metadata": {
        "colab": {
          "base_uri": "https://localhost:8080/"
        },
        "id": "LOpp6S1p_Eqf",
        "outputId": "e343b5bc-42c2-47e4-83f4-ccbad300f167"
      },
      "outputs": [
        {
          "output_type": "stream",
          "name": "stdout",
          "text": [
            "Hoy es 16 \n",
            "Del mes 9 \n",
            "Del año 2022\n",
            "\n",
            "Hora actual (UTC-5): 22:14':1\"\n",
            "\n",
            "   September 2022\n",
            "Mo Tu We Th Fr Sa Su\n",
            "          1  2  3  4\n",
            " 5  6  7  8  9 10 11\n",
            "12 13 14 15 16 17 18\n",
            "19 20 21 22 23 24 25\n",
            "26 27 28 29 30\n",
            "\n",
            "    October 2022\n",
            "Mo Tu We Th Fr Sa Su\n",
            "                1  2\n",
            " 3  4  5  6  7  8  9\n",
            "10 11 12 13 14 15 16\n",
            "17 18 19 20 21 22 23\n",
            "24 25 26 27 28 29 30\n",
            "31\n",
            "\n",
            "   November 2022\n",
            "Mo Tu We Th Fr Sa Su\n",
            "    1  2  3  4  5  6\n",
            " 7  8  9 10 11 12 13\n",
            "14 15 16 17 18 19 20\n",
            "21 22 23 24 25 26 27\n",
            "28 29 30\n",
            "\n",
            "Dias restantes para el primer corte:  7 days, 1:45:58.842374\n"
          ]
        }
      ],
      "source": [
        "import calendar\n",
        "from datetime import date, datetime, timedelta\n",
        "\n",
        "year=2022\n",
        "month=9\n",
        "hoy=date.today()\n",
        "hora_a=datetime.now()-timedelta(hours=5)\n",
        "day_corte=datetime(2022,9,23)\n",
        "\n",
        "\n",
        "#Fecha\n",
        "print(\"Hoy es {}\".format(hoy.day),\"\\nDel mes {}\".format(hoy.month),\"\\nDel año {}\".format(hoy.year))\n",
        "print(\"\")\n",
        "\n",
        "#Hora\n",
        "print(\"Hora actual (UTC-5): {}\".format(hora_a.hour)+\":{}\".format(hora_a.minute)+\"':{}\".format(hora_a.second)+'\"')\n",
        "\n",
        "\n",
        "print(\"\")\n",
        "for i in range (8,11):\n",
        "  x=calendar.month(year,month)\n",
        "  month+=1\n",
        "  print(x)\n",
        "\n",
        "print(\"Dias restantes para el primer corte: \",day_corte-hora_a)\n"
      ]
    }
  ]
}