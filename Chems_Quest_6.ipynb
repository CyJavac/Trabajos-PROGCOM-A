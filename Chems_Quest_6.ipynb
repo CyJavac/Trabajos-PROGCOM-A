{
  "nbformat": 4,
  "nbformat_minor": 0,
  "metadata": {
    "colab": {
      "provenance": [],
      "collapsed_sections": [
        "V308GaG4OqnE",
        "-eMH0UVyPCr-",
        "V0kP3bqWPLiy",
        "CJEMOvKBPNON",
        "Av-JSshCPRwQ",
        "NWlJza_ZPUrG",
        "-ms0RcpAPXpa",
        "nEMENNvFPb-C",
        "ojT2ZwkePlDa",
        "Pn_QK5-NPpSt",
        "kxEV2rjnPr4I",
        "AJWJk8EIPt8t",
        "5Thp5h7-Pwqn",
        "bTnarUDLP4vR",
        "uOqb7ysZP88W",
        "tw9YkAsdP-xT",
        "hWe_jhYkQD9T",
        "4dA8Kb4UQK9n",
        "S4pL9DjYQNuW",
        "DdqJfY_RQP_2",
        "5cJecQztQT71",
        "H_5ChcTTQXKb",
        "HsxQQofUQaBg"
      ]
    },
    "kernelspec": {
      "name": "python3",
      "display_name": "Python 3"
    },
    "language_info": {
      "name": "python"
    }
  },
  "cells": [
    {
      "cell_type": "markdown",
      "source": [
        "#False:\n",
        "##Valor/variable booleana la cual se da si algún argumento, operación lógica o comparación es falsa, hay ausencia de valor, o es igual a 0."
      ],
      "metadata": {
        "id": "V308GaG4OqnE"
      }
    },
    {
      "cell_type": "code",
      "execution_count": null,
      "metadata": {
        "colab": {
          "base_uri": "https://localhost:8080/"
        },
        "id": "Wftne8XUNE8G",
        "outputId": "75b13e45-f92d-4842-f8ee-723f7c58dd4d"
      },
      "outputs": [
        {
          "output_type": "execute_result",
          "data": {
            "text/plain": [
              "False"
            ]
          },
          "metadata": {},
          "execution_count": 7
        }
      ],
      "source": [
        "bool(3==4)"
      ]
    },
    {
      "cell_type": "code",
      "source": [
        "bool(\"\")"
      ],
      "metadata": {
        "colab": {
          "base_uri": "https://localhost:8080/"
        },
        "id": "KNB3yP4sV7Y_",
        "outputId": "3aed779a-9490-4392-8c96-b0156ec14651"
      },
      "execution_count": null,
      "outputs": [
        {
          "output_type": "execute_result",
          "data": {
            "text/plain": [
              "False"
            ]
          },
          "metadata": {},
          "execution_count": 16
        }
      ]
    },
    {
      "cell_type": "code",
      "source": [
        "bool(0)"
      ],
      "metadata": {
        "colab": {
          "base_uri": "https://localhost:8080/"
        },
        "id": "lfiJcKbFV9ts",
        "outputId": "cfbb7ca5-3626-41c1-cda1-9a120698c48f"
      },
      "execution_count": null,
      "outputs": [
        {
          "output_type": "execute_result",
          "data": {
            "text/plain": [
              "False"
            ]
          },
          "metadata": {},
          "execution_count": 9
        }
      ]
    },
    {
      "cell_type": "markdown",
      "source": [
        "#None:\n",
        "##Indica la ausencia de un valor en una variable"
      ],
      "metadata": {
        "id": "-eMH0UVyPCr-"
      }
    },
    {
      "cell_type": "code",
      "source": [
        "lista=[]\n",
        "bool(lista)"
      ],
      "metadata": {
        "colab": {
          "base_uri": "https://localhost:8080/"
        },
        "id": "jmfp5mdyPLKS",
        "outputId": "24819658-7726-4a22-bcef-7ae9f9d782f3"
      },
      "execution_count": null,
      "outputs": [
        {
          "output_type": "execute_result",
          "data": {
            "text/plain": [
              "False"
            ]
          },
          "metadata": {},
          "execution_count": 18
        }
      ]
    },
    {
      "cell_type": "markdown",
      "source": [
        "#True:\n",
        "##Valor/variable booleana la cual se da si algún argumento, operación lógica o comparación es verdadera, o es diferente de 0."
      ],
      "metadata": {
        "id": "V0kP3bqWPLiy"
      }
    },
    {
      "cell_type": "code",
      "source": [
        "x=5\n",
        "bool(x==5)"
      ],
      "metadata": {
        "colab": {
          "base_uri": "https://localhost:8080/"
        },
        "id": "qEgp_kBZPOlX",
        "outputId": "ba88f0ec-bf1e-4107-fd20-98cffae30c85"
      },
      "execution_count": null,
      "outputs": [
        {
          "output_type": "execute_result",
          "data": {
            "text/plain": [
              "True"
            ]
          },
          "metadata": {},
          "execution_count": 2
        }
      ]
    },
    {
      "cell_type": "code",
      "source": [
        "bool(10)"
      ],
      "metadata": {
        "colab": {
          "base_uri": "https://localhost:8080/"
        },
        "id": "8gnLjm3tWWEJ",
        "outputId": "33b5a4ba-9519-4a8e-ddee-af739e230045"
      },
      "execution_count": null,
      "outputs": [
        {
          "output_type": "execute_result",
          "data": {
            "text/plain": [
              "True"
            ]
          },
          "metadata": {},
          "execution_count": 10
        }
      ]
    },
    {
      "cell_type": "markdown",
      "source": [
        "#and:\n",
        "##Operador lógico el cual da como resultado True si todos sus operandos son verdaderos (True)"
      ],
      "metadata": {
        "id": "CJEMOvKBPNON"
      }
    },
    {
      "cell_type": "code",
      "source": [
        "x=5\n",
        "y=10\n",
        "bool(x==5 and y==10)"
      ],
      "metadata": {
        "colab": {
          "base_uri": "https://localhost:8080/"
        },
        "id": "DgHQtD_NPRgI",
        "outputId": "b7c66dd4-cdff-4374-8d15-e292130d7efd"
      },
      "execution_count": null,
      "outputs": [
        {
          "output_type": "execute_result",
          "data": {
            "text/plain": [
              "True"
            ]
          },
          "metadata": {},
          "execution_count": 40
        }
      ]
    },
    {
      "cell_type": "code",
      "source": [
        "x=5\n",
        "y=15\n",
        "bool(x==5 and y==10)"
      ],
      "metadata": {
        "colab": {
          "base_uri": "https://localhost:8080/"
        },
        "id": "SX6eL4tCe-tC",
        "outputId": "e824d504-3e11-425c-c839-cfc45976e48e"
      },
      "execution_count": null,
      "outputs": [
        {
          "output_type": "execute_result",
          "data": {
            "text/plain": [
              "False"
            ]
          },
          "metadata": {},
          "execution_count": 41
        }
      ]
    },
    {
      "cell_type": "markdown",
      "source": [
        "#as:\n",
        "##Sirve para asignar nombres diferentes a módulos o librerías."
      ],
      "metadata": {
        "id": "Av-JSshCPRwQ"
      }
    },
    {
      "cell_type": "code",
      "source": [
        "import calendar as ca\n",
        "print(ca.day_name[:])"
      ],
      "metadata": {
        "colab": {
          "base_uri": "https://localhost:8080/"
        },
        "id": "Gk8krbqAPUcS",
        "outputId": "ce969289-0475-450e-eea6-014df27feee4"
      },
      "execution_count": null,
      "outputs": [
        {
          "output_type": "stream",
          "name": "stdout",
          "text": [
            "['Monday', 'Tuesday', 'Wednesday', 'Thursday', 'Friday', 'Saturday', 'Sunday']\n"
          ]
        }
      ]
    },
    {
      "cell_type": "markdown",
      "source": [
        "#assert:\n",
        "##Define condiciones que siempre deben ser verdaderas (True), de lo contrario lo marcará como error."
      ],
      "metadata": {
        "id": "NWlJza_ZPUrG"
      }
    },
    {
      "cell_type": "code",
      "source": [
        "x=5\n",
        "assert x==5"
      ],
      "metadata": {
        "id": "_7mPV4dEPXPv"
      },
      "execution_count": null,
      "outputs": []
    },
    {
      "cell_type": "code",
      "source": [
        "assert x==10"
      ],
      "metadata": {
        "colab": {
          "base_uri": "https://localhost:8080/",
          "height": 165
        },
        "id": "YfYKMo-ggWvy",
        "outputId": "c4abb785-88bb-4d8e-df21-87035d39a105"
      },
      "execution_count": null,
      "outputs": [
        {
          "output_type": "error",
          "ename": "AssertionError",
          "evalue": "ignored",
          "traceback": [
            "\u001b[0;31m---------------------------------------------------------------------------\u001b[0m",
            "\u001b[0;31mAssertionError\u001b[0m                            Traceback (most recent call last)",
            "\u001b[0;32m<ipython-input-43-6ec31bab373a>\u001b[0m in \u001b[0;36m<module>\u001b[0;34m\u001b[0m\n\u001b[0;32m----> 1\u001b[0;31m \u001b[0;32massert\u001b[0m \u001b[0mx\u001b[0m\u001b[0;34m==\u001b[0m\u001b[0;36m10\u001b[0m\u001b[0;34m\u001b[0m\u001b[0;34m\u001b[0m\u001b[0m\n\u001b[0m",
            "\u001b[0;31mAssertionError\u001b[0m: "
          ]
        }
      ]
    },
    {
      "cell_type": "markdown",
      "source": [
        "#break:\n",
        "##Rompe el ciclo al ejecutarse. Puede usarse que dada una condición dentro de un ciclo, se ejecute. Por ejemplo, un bloque \"if\""
      ],
      "metadata": {
        "id": "-ms0RcpAPXpa"
      }
    },
    {
      "cell_type": "code",
      "source": [
        "while True:\n",
        "  x=int(input(\"Ingrese un número diferente de 0: \"))\n",
        "  print(\"\")\n",
        "  if x==0:\n",
        "    break"
      ],
      "metadata": {
        "colab": {
          "base_uri": "https://localhost:8080/"
        },
        "id": "UpO896CBPZ2h",
        "outputId": "2afaf843-13c2-4d88-ae08-ea7154c46baf"
      },
      "execution_count": null,
      "outputs": [
        {
          "output_type": "stream",
          "name": "stdout",
          "text": [
            "Ingrese un número diferente de 0: 7\n",
            "\n",
            "Ingrese un número diferente de 0: 9\n",
            "\n",
            "Ingrese un número diferente de 0: 0\n",
            "\n"
          ]
        }
      ]
    },
    {
      "cell_type": "markdown",
      "source": [
        "#class:"
      ],
      "metadata": {
        "id": "K2JESN8fPZQ7"
      }
    },
    {
      "cell_type": "code",
      "source": [],
      "metadata": {
        "id": "RJ13Zy4CPbqw"
      },
      "execution_count": null,
      "outputs": []
    },
    {
      "cell_type": "markdown",
      "source": [
        "#continue:\n",
        "##Al ejecutarse, omite la ejecución de el ciclo en el que se activo."
      ],
      "metadata": {
        "id": "nEMENNvFPb-C"
      }
    },
    {
      "cell_type": "code",
      "source": [
        "i=0\n",
        "for i in range(10):\n",
        "    if i==6:\n",
        "        print(\"\")\n",
        "        continue\n",
        "    print(\"El número es \",i)\n",
        "print(\"Fin\")"
      ],
      "metadata": {
        "id": "CQ6jsEkzPe1_",
        "colab": {
          "base_uri": "https://localhost:8080/"
        },
        "outputId": "40687a5e-9a5a-490f-cb5c-686d650cceb3"
      },
      "execution_count": null,
      "outputs": [
        {
          "output_type": "stream",
          "name": "stdout",
          "text": [
            "El número es  0\n",
            "El número es  1\n",
            "El número es  2\n",
            "El número es  3\n",
            "El número es  4\n",
            "El número es  5\n",
            "\n",
            "El número es  7\n",
            "El número es  8\n",
            "El número es  9\n",
            "Fin\n"
          ]
        }
      ]
    },
    {
      "cell_type": "markdown",
      "source": [
        "#def:"
      ],
      "metadata": {
        "id": "1tpkfa3YPfJm"
      }
    },
    {
      "cell_type": "code",
      "source": [],
      "metadata": {
        "id": "7v91VLhEPkBN"
      },
      "execution_count": null,
      "outputs": []
    },
    {
      "cell_type": "markdown",
      "source": [
        "#del:"
      ],
      "metadata": {
        "id": "C0GhoMDyPlZk"
      }
    },
    {
      "cell_type": "code",
      "source": [],
      "metadata": {
        "id": "o6xW5EmiPi9G"
      },
      "execution_count": null,
      "outputs": []
    },
    {
      "cell_type": "markdown",
      "source": [
        "#elif:\n",
        "##Condición diferente a la principal, dentro de un mismo bloque \"if\"."
      ],
      "metadata": {
        "id": "ojT2ZwkePlDa"
      }
    },
    {
      "cell_type": "code",
      "source": [
        "x=int(input(\"Ingrese un número: \"))\n",
        "if x>=0 and x<=10:\n",
        "  print(\"El número esta entre 0 y 10\")\n",
        "elif x>10:\n",
        "  print(\"El número es mayor a 10\")\n",
        "else:\n",
        "  print(\"El número es menor que 0\")"
      ],
      "metadata": {
        "colab": {
          "base_uri": "https://localhost:8080/"
        },
        "id": "aVKyqJIqPpC6",
        "outputId": "d9e16fa5-3827-40c2-a66f-4c4f16971866"
      },
      "execution_count": null,
      "outputs": [
        {
          "output_type": "stream",
          "name": "stdout",
          "text": [
            "Ingrese un número: 86\n",
            "El número es mayor a 10\n"
          ]
        }
      ]
    },
    {
      "cell_type": "markdown",
      "source": [
        "#else:\n",
        "##Bloque que se ejecuta si las condiciones en un bloque son falsas (False). Por ejemplo en bloque \"if\" y \"try\""
      ],
      "metadata": {
        "id": "Pn_QK5-NPpSt"
      }
    },
    {
      "cell_type": "code",
      "source": [
        "x=int(input(\"Ingrese un número entre 1 y 10: \"))\n",
        "if x>0 and x<11:\n",
        "  print(\"Verdadero\")\n",
        "else:\n",
        "  print(\"Falso\")"
      ],
      "metadata": {
        "colab": {
          "base_uri": "https://localhost:8080/"
        },
        "id": "BqWRx8o6Pref",
        "outputId": "2558f946-06bc-4a78-eb28-22ebf421321d"
      },
      "execution_count": null,
      "outputs": [
        {
          "output_type": "stream",
          "name": "stdout",
          "text": [
            "Ingrese un número entre 1 y 10: 15\n",
            "Falso\n"
          ]
        }
      ]
    },
    {
      "cell_type": "markdown",
      "source": [
        "#except:\n",
        "##Bloque que se ejecuta cuando ocurre un error general o específico dentro de un bloque \"try\"."
      ],
      "metadata": {
        "id": "kxEV2rjnPr4I"
      }
    },
    {
      "cell_type": "code",
      "source": [
        "y=10\n",
        "try:\n",
        "  print(x)\n",
        "  print(prueba)\n",
        "  print(y)\n",
        "except NameError:\n",
        "  print(\"Error detectado, variable 'prueba' no definida\")\n",
        "\n"
      ],
      "metadata": {
        "colab": {
          "base_uri": "https://localhost:8080/"
        },
        "id": "1D-ODVy2Ptq6",
        "outputId": "37efdd1c-2da2-4a3c-9502-55ad398421cd"
      },
      "execution_count": null,
      "outputs": [
        {
          "output_type": "stream",
          "name": "stdout",
          "text": [
            "5\n",
            "Error detectado, variable 'prueba' no definida\n"
          ]
        }
      ]
    },
    {
      "cell_type": "markdown",
      "source": [
        "#finally:\n",
        "##Bloque que se ejecuta sin importar si hay o no errores en bloques \"try\"."
      ],
      "metadata": {
        "id": "AJWJk8EIPt8t"
      }
    },
    {
      "cell_type": "code",
      "source": [
        "y=10\n",
        "try:\n",
        "  print(x)\n",
        "  print(prueba)\n",
        "  print(y)\n",
        "except:\n",
        "  print(\"Error detectado, variable 'prueba' no definida\")\n",
        "finally:\n",
        "  print(\"Ejecución de prueba terminada\")"
      ],
      "metadata": {
        "colab": {
          "base_uri": "https://localhost:8080/"
        },
        "id": "YUuUX-7UPwXX",
        "outputId": "21989b87-08fb-4c77-eec7-dd32e39690c2"
      },
      "execution_count": null,
      "outputs": [
        {
          "output_type": "stream",
          "name": "stdout",
          "text": [
            "15\n",
            "Error detectado, variable 'prueba' no definida\n",
            "Ejecución de prueba terminada\n"
          ]
        }
      ]
    },
    {
      "cell_type": "code",
      "source": [
        "y=10\n",
        "try:\n",
        "  print(x)\n",
        "  print(y)\n",
        "except:\n",
        "  print(\"Error detectado, variable 'prueba' no definida\")\n",
        "finally:\n",
        "  print(\"Ejecución de prueba terminada\")"
      ],
      "metadata": {
        "colab": {
          "base_uri": "https://localhost:8080/"
        },
        "id": "L4ualsJPlffR",
        "outputId": "e8faa4dd-3724-444a-8354-e7df9446afb4"
      },
      "execution_count": null,
      "outputs": [
        {
          "output_type": "stream",
          "name": "stdout",
          "text": [
            "15\n",
            "10\n",
            "Ejecución de prueba terminada\n"
          ]
        }
      ]
    },
    {
      "cell_type": "markdown",
      "source": [
        "#for:\n",
        "##Ciclo que se ejecuta una cantidad determinada de veces. Puede usar listas, tuplas, diccionarios o un rango específico."
      ],
      "metadata": {
        "id": "5Thp5h7-Pwqn"
      }
    },
    {
      "cell_type": "code",
      "source": [
        "i=0\n",
        "for i in range(10):\n",
        "  print(i)"
      ],
      "metadata": {
        "colab": {
          "base_uri": "https://localhost:8080/"
        },
        "id": "zSSZu9OQP4gz",
        "outputId": "661222a3-3715-4648-d5ab-242e864459bf"
      },
      "execution_count": null,
      "outputs": [
        {
          "output_type": "stream",
          "name": "stdout",
          "text": [
            "0\n",
            "1\n",
            "2\n",
            "3\n",
            "4\n",
            "5\n",
            "6\n",
            "7\n",
            "8\n",
            "9\n"
          ]
        }
      ]
    },
    {
      "cell_type": "code",
      "source": [
        "animales=[\"Vaca\",\"Cerdo\",\"Pez\",\"Oveja\",\"Cabra\",\"Caballo\"]\n",
        "for a in animales:\n",
        "  print(a)"
      ],
      "metadata": {
        "colab": {
          "base_uri": "https://localhost:8080/"
        },
        "id": "oJJQropZnNx0",
        "outputId": "9198f684-7850-44f2-8cb7-b7dd4f44a056"
      },
      "execution_count": null,
      "outputs": [
        {
          "output_type": "stream",
          "name": "stdout",
          "text": [
            "Vaca\n",
            "Cerdo\n",
            "Pez\n",
            "Oveja\n",
            "Cabra\n",
            "Caballo\n"
          ]
        }
      ]
    },
    {
      "cell_type": "markdown",
      "source": [
        "#from:\n",
        "##Sirve para importar variables y funciones específicas de módulos o librerías."
      ],
      "metadata": {
        "id": "bTnarUDLP4vR"
      }
    },
    {
      "cell_type": "code",
      "source": [
        "from calendar import day_name\n",
        "print(day_name[:])"
      ],
      "metadata": {
        "colab": {
          "base_uri": "https://localhost:8080/"
        },
        "id": "1qvLyoRUP6bh",
        "outputId": "d7cda6d6-a24f-46f3-f606-535f595fb75c"
      },
      "execution_count": null,
      "outputs": [
        {
          "output_type": "stream",
          "name": "stdout",
          "text": [
            "['Monday', 'Tuesday', 'Wednesday', 'Thursday', 'Friday', 'Saturday', 'Sunday']\n"
          ]
        }
      ]
    },
    {
      "cell_type": "markdown",
      "source": [
        "#global:\n",
        "##Se utiliza para llamar y cambiar asignaciones de variables dentro de funciones"
      ],
      "metadata": {
        "id": "77-J7N6NP6xR"
      }
    },
    {
      "cell_type": "code",
      "source": [],
      "metadata": {
        "id": "lTANxCpIP8tR"
      },
      "execution_count": null,
      "outputs": []
    },
    {
      "cell_type": "markdown",
      "source": [
        "#if:\n",
        "##Bloque que se ejecuta solo si la condición es verdadera (True)"
      ],
      "metadata": {
        "id": "uOqb7ysZP88W"
      }
    },
    {
      "cell_type": "code",
      "source": [
        "x=int(input(\"Ingrese un número entre 1 y 10: \"))\n",
        "if x>0 and x<11:\n",
        "  print(\"Verdadero\")"
      ],
      "metadata": {
        "colab": {
          "base_uri": "https://localhost:8080/"
        },
        "id": "iQB8ZeWVP-V5",
        "outputId": "b0479b0a-e140-4027-810a-2873bab1dc82"
      },
      "execution_count": null,
      "outputs": [
        {
          "output_type": "stream",
          "name": "stdout",
          "text": [
            "Ingrese un número entre 1 y 10: 5\n",
            "Verdadero\n"
          ]
        }
      ]
    },
    {
      "cell_type": "code",
      "source": [
        "x=int(input(\"Ingrese un número entre 1 y 10: \"))\n",
        "if x>0 and x<11:\n",
        "  print(\"Verdadero\")"
      ],
      "metadata": {
        "colab": {
          "base_uri": "https://localhost:8080/"
        },
        "id": "BBbzJU-ncwv8",
        "outputId": "040a825d-df70-4801-a01e-e5a2177b6373"
      },
      "execution_count": null,
      "outputs": [
        {
          "name": "stdout",
          "output_type": "stream",
          "text": [
            "Ingrese un número entre 1 y 10: 15\n"
          ]
        }
      ]
    },
    {
      "cell_type": "markdown",
      "source": [
        "#import:\n",
        "##Sirve para importar módulos y librerías."
      ],
      "metadata": {
        "id": "tw9YkAsdP-xT"
      }
    },
    {
      "cell_type": "code",
      "source": [
        "import calendar\n",
        "print(calendar.day_name[:])"
      ],
      "metadata": {
        "colab": {
          "base_uri": "https://localhost:8080/"
        },
        "id": "eJDn9G7fQCPQ",
        "outputId": "41996e62-efe7-4512-d63d-552f288d7546"
      },
      "execution_count": null,
      "outputs": [
        {
          "output_type": "stream",
          "name": "stdout",
          "text": [
            "['Monday', 'Tuesday', 'Wednesday', 'Thursday', 'Friday', 'Saturday', 'Sunday']\n"
          ]
        }
      ]
    },
    {
      "cell_type": "markdown",
      "source": [
        "#in:"
      ],
      "metadata": {
        "id": "1KaCynb8QCdE"
      }
    },
    {
      "cell_type": "code",
      "source": [],
      "metadata": {
        "id": "Y47xiCmzQDtk"
      },
      "execution_count": null,
      "outputs": []
    },
    {
      "cell_type": "markdown",
      "source": [
        "#is:\n",
        "##Operador lógico cuyo resultado es True si una valor de una variable es igual al señalado"
      ],
      "metadata": {
        "id": "hWe_jhYkQD9T"
      }
    },
    {
      "cell_type": "code",
      "source": [
        "x=5\n",
        "bool(x is 5)"
      ],
      "metadata": {
        "colab": {
          "base_uri": "https://localhost:8080/"
        },
        "id": "FYyVblgeQF30",
        "outputId": "48b35007-f13b-4ff0-8c95-ec7771367db0"
      },
      "execution_count": null,
      "outputs": [
        {
          "output_type": "execute_result",
          "data": {
            "text/plain": [
              "True"
            ]
          },
          "metadata": {},
          "execution_count": 19
        }
      ]
    },
    {
      "cell_type": "markdown",
      "source": [
        "#lambda:\n",
        "##Se usa para asignar una función o argumentos a una variable"
      ],
      "metadata": {
        "id": "RMmy92S2QGT1"
      }
    },
    {
      "cell_type": "code",
      "source": [
        "cuadrado= lambda x: x**2\n",
        "print(cuadrado(5))"
      ],
      "metadata": {
        "id": "cVyCzabyQIrv",
        "colab": {
          "base_uri": "https://localhost:8080/"
        },
        "outputId": "25834235-9232-43db-f758-6fd0917f8ce1"
      },
      "execution_count": null,
      "outputs": [
        {
          "output_type": "stream",
          "name": "stdout",
          "text": [
            "25\n"
          ]
        }
      ]
    },
    {
      "cell_type": "markdown",
      "source": [
        "#nonlocal:"
      ],
      "metadata": {
        "id": "2VhXoEFIQI4i"
      }
    },
    {
      "cell_type": "code",
      "source": [],
      "metadata": {
        "id": "SXV8FyEVQKkq"
      },
      "execution_count": null,
      "outputs": []
    },
    {
      "cell_type": "markdown",
      "source": [
        "#not:\n",
        "##Operador lógico el cual da como resultado True solo si su argumento es falso (False)"
      ],
      "metadata": {
        "id": "4dA8Kb4UQK9n"
      }
    },
    {
      "cell_type": "code",
      "source": [
        "x=5\n",
        "bool(not x==4)"
      ],
      "metadata": {
        "colab": {
          "base_uri": "https://localhost:8080/"
        },
        "id": "AJQu_SfUQMlc",
        "outputId": "eea090a7-bf17-4ef4-e751-1ceb04bdb1b7"
      },
      "execution_count": null,
      "outputs": [
        {
          "output_type": "execute_result",
          "data": {
            "text/plain": [
              "True"
            ]
          },
          "metadata": {},
          "execution_count": 23
        }
      ]
    },
    {
      "cell_type": "markdown",
      "source": [
        "#or:\n",
        "##Operador lógico el cual da como resultado True si alguno sus operandos es verdadero (True)"
      ],
      "metadata": {
        "id": "S4pL9DjYQNuW"
      }
    },
    {
      "cell_type": "code",
      "source": [
        "x=1\n",
        "y=2\n",
        "bool(x==1 or y==1)"
      ],
      "metadata": {
        "colab": {
          "base_uri": "https://localhost:8080/"
        },
        "id": "XNLzAUp2QPvS",
        "outputId": "efef4eae-7011-4278-fffd-8af5c578cada"
      },
      "execution_count": null,
      "outputs": [
        {
          "output_type": "execute_result",
          "data": {
            "text/plain": [
              "True"
            ]
          },
          "metadata": {},
          "execution_count": 22
        }
      ]
    },
    {
      "cell_type": "markdown",
      "source": [
        "#pass:\n",
        "##Permite ejecutar una condición aparte, dejando al programa seguir ejecutando el ciclo sin afectarlo."
      ],
      "metadata": {
        "id": "DdqJfY_RQP_2"
      }
    },
    {
      "cell_type": "code",
      "source": [
        "i=0\n",
        "for i in range(10):\n",
        "    if i==6:\n",
        "        pass\n",
        "    print(\"El número es \",i)\n",
        "print(\"Fin\")"
      ],
      "metadata": {
        "id": "PCgQlBruQRQy",
        "colab": {
          "base_uri": "https://localhost:8080/"
        },
        "outputId": "6f9a8576-27c9-4841-dc6a-ec300cd2e658"
      },
      "execution_count": null,
      "outputs": [
        {
          "output_type": "stream",
          "name": "stdout",
          "text": [
            "El número es  0\n",
            "El número es  1\n",
            "El número es  2\n",
            "El número es  3\n",
            "El número es  4\n",
            "El número es  5\n",
            "El número es  6\n",
            "El número es  7\n",
            "El número es  8\n",
            "El número es  9\n",
            "Fin\n"
          ]
        }
      ]
    },
    {
      "cell_type": "markdown",
      "source": [
        "#raise:"
      ],
      "metadata": {
        "id": "ihOYSFweQRmi"
      }
    },
    {
      "cell_type": "code",
      "source": [],
      "metadata": {
        "id": "BXX1QLYUQTs-"
      },
      "execution_count": null,
      "outputs": []
    },
    {
      "cell_type": "markdown",
      "source": [
        "#return:\n",
        "##Devuelve un valor de una función al programa. / Convierte una función en un valor específico."
      ],
      "metadata": {
        "id": "5cJecQztQT71"
      }
    },
    {
      "cell_type": "code",
      "source": [
        "def hola(x):\n",
        "  return x*2\n",
        "\n",
        "print(hola(6))\n",
        "print(hola(10)*3)"
      ],
      "metadata": {
        "id": "SOL9_OgoQWty",
        "colab": {
          "base_uri": "https://localhost:8080/"
        },
        "outputId": "36ccb8c6-1eca-4466-de04-eb12586882b4"
      },
      "execution_count": null,
      "outputs": [
        {
          "output_type": "stream",
          "name": "stdout",
          "text": [
            "10101010\n",
            "12\n",
            "60\n"
          ]
        }
      ]
    },
    {
      "cell_type": "markdown",
      "source": [
        "#try:\n",
        "##Bloque que se ejecuta hasta que se encuentra una linea de código con errores.\n",
        "##Sirve para hacer pruebas y encontrar errores dentro de un bloque de código."
      ],
      "metadata": {
        "id": "H_5ChcTTQXKb"
      }
    },
    {
      "cell_type": "code",
      "source": [
        "y=10\n",
        "try:\n",
        "  print(x)\n",
        "  print(prueba)\n",
        "  print(y)\n",
        "except:\n",
        "  print(\"Error detectado, variable 'prueba' no definida\")"
      ],
      "metadata": {
        "colab": {
          "base_uri": "https://localhost:8080/"
        },
        "id": "ezuY4asKQZVn",
        "outputId": "cf2d6763-4326-4187-96b3-d5422b3422f5"
      },
      "execution_count": null,
      "outputs": [
        {
          "output_type": "stream",
          "name": "stdout",
          "text": [
            "5\n",
            "Error detectado, variable 'prueba' no definida\n"
          ]
        }
      ]
    },
    {
      "cell_type": "markdown",
      "source": [
        "#while:\n",
        "##Bloque que se ejecuta y se repite mientras una condición sea verdadera (True)"
      ],
      "metadata": {
        "id": "HsxQQofUQaBg"
      }
    },
    {
      "cell_type": "code",
      "source": [
        "x=0\n",
        "while x!=11:\n",
        "  print(x)\n",
        "  x+=1"
      ],
      "metadata": {
        "colab": {
          "base_uri": "https://localhost:8080/"
        },
        "id": "fNXVxTcaQbuM",
        "outputId": "54d98abb-6d9f-4b32-b611-006fb54aee9b"
      },
      "execution_count": null,
      "outputs": [
        {
          "output_type": "stream",
          "name": "stdout",
          "text": [
            "0\n",
            "1\n",
            "2\n",
            "3\n",
            "4\n",
            "5\n",
            "6\n",
            "7\n",
            "8\n",
            "9\n",
            "10\n"
          ]
        }
      ]
    },
    {
      "cell_type": "markdown",
      "source": [
        "#with:"
      ],
      "metadata": {
        "id": "NjnIoaw3QcEm"
      }
    },
    {
      "cell_type": "code",
      "source": [],
      "metadata": {
        "id": "Ux6kKIvEQdrC"
      },
      "execution_count": null,
      "outputs": []
    },
    {
      "cell_type": "markdown",
      "source": [
        "#yield:"
      ],
      "metadata": {
        "id": "yg4GA8M4QeCs"
      }
    },
    {
      "cell_type": "code",
      "source": [],
      "metadata": {
        "id": "mdnpEYtvQfw7"
      },
      "execution_count": null,
      "outputs": []
    }
  ]
}